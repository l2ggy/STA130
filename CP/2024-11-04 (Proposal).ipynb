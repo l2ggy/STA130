{
 "cells": [
  {
   "cell_type": "markdown",
   "metadata": {},
   "source": [
    "# Individual Project Proposal\n",
    "Boris Kafidov 1011753817\n",
    "\n",
    "## 1. Research Question\n",
    "**Does reported loneliness vary based on studentship, relationship status, and self-rated health?**\n",
    "- **Objective**: Through this research question I aim to identify the factors that most strongly correlate with feelings of loneliness. Answering this question may be beneficial to figuring out lifestyle choices that are helpful to avoiding and combating feelings of loneliness.\n",
    "\n",
    "## 2. Variables\n",
    "- **Variable 1 (Primary)**: \"LONELY_ucla_loneliness_scale_score\"\n",
    "  *Description*: The UCLA loneliness scale score is a score on scale from 3 to 9. These scores are based on an assessment, and one of the ways they're often grouped is 3-5 (not lonely), and 6-9 (lonely).\n",
    "  *Visualization*: By itself, this data can be visualized on a histogram or density plot, however; for the purpose of my research question I intend to graph it against other variables.\n",
    "\n",
    "- **Variable 2**: \"DEMO_student\"\n",
    "  *Description*: This variable indicates whether an individual responder is a student or not. This is helpful to identify whether students experience loneliness in different trends than non-students.\n",
    "  *Visualization*: A box plot comparing loneliness scores between the group of student responders and non-student responders\n",
    "\n",
    "- **Variable 3**: \"DEMO_relationship_status\"\n",
    "  *Description*: This variable reflects the relationship status of the responder. Relationship status may impact the way people experience loneliness.\n",
    "  *Visualization*: A box plot comparing loneliness scores across various categories of relationship status\n",
    "\n",
    "- **Variable 4**: \"WELLNESS_self_rated_mental_health\"\n",
    "  *Description*: This variable indicates self-rated mental health, which should probably correlate with loneliness.\n",
    "  *Visualization*: Scatter plot with a trendline, plotting this variable against loneliness score\n",
    "\n",
    "- **Variable 5**: \"WELLNESS_self_rated_physical_health\"\n",
    "  *Description*: This variable indicates self-rated physical health, which should probably correlate with loneliness.\n",
    "  *Visualization*: Scatter plot with a trendline, plotting this variable against loneliness score\n",
    "\n",
    "\n",
    "## 3. Analysis Plan\n",
    "- **Method**: To compare categories like students and non-students, as well as the various relationship categories, T-tests will be used. To compare the variables 4 and 5 against loneliness, correlation testing will be conducted.\n",
    "- **Assumptions**: Assumptions include the normality of data of all of the variables.\n",
    "\n",
    "## 4. Hypothesis and Expected Results\n",
    "- **Hypothesis**: Students, individuals with poorer self-rated mental or physical health, and single individuals will have higher loneliness scores.\n",
    "\n",
    "- **Relevance**: Expected results would be informative about the groups that need assistance with loneliness as well as the choices that could lead to reduced feelings of loneliness. This information could be useful for planning programs and initiatives that aim to combat loneliness."
   ]
  }
 ],
 "metadata": {
  "language_info": {
   "name": "python"
  }
 },
 "nbformat": 4,
 "nbformat_minor": 2
}
