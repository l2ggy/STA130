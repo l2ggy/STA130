{
 "cells": [
  {
   "cell_type": "markdown",
   "metadata": {},
   "source": [
    "# Individual Project Proposal\n",
    "Boris Kafidov 1011753817\n",
    "\n",
    "## 1. Research Question\n",
    "- **Statement**: [Clearly state the specific research question you have formulated. Mention its relevance and connection to the data provided.]\n",
    "- **Objective**: [Explain what you aim to achieve or discover with this research question.]\n",
    "\n",
    "## 2. Variables\n",
    "- **Variables to Explore**:\n",
    "  - **Variable 1**: [Name]  \n",
    "    *Description*: [Describe the variable and its significance to your research question.]  \n",
    "    *Visualization*: [Mention and justify the type of plot/summary statistics you plan to use.]\n",
    "  - **Variable 2**: [Name]  \n",
    "    *Description*: [Describe the variable and its significance to your research question.]  \n",
    "    *Visualization*: [Mention and justify the type of plot/summary statistics you plan to use.]\n",
    "  - **Additional Variables (if applicable)**: [Name and details]\n",
    "\n",
    "## 3. Analysis Plan\n",
    "- **Method**: [Explain the method selected based on course knowledge. Justify why this method is suitable for your research question.]\n",
    "- **Assumptions**: [Discuss any assumptions related to your analysis and their implications.]\n",
    "\n",
    "## 4. Hypothesis and Expected Results\n",
    "- **Hypothesis**: [Formulate a clear hypothesis based on the data and your understanding.]\n",
    "- **Relevance**: [Describe how the expected results would address your research question and contribute to understanding the data.]\n",
    "\n",
    "## 5. Preliminary Work (Optional)\n",
    "- **Preliminary Analysis**: [Include a summary if any preliminary work has been conducted. This section is optional and can include code snippets.]\n",
    "\n",
    "## Submission\n",
    "- [Reminder: Submit your proposal as a link to a Jupyter notebook hosted in a GitHub repository.]\n"
   ]
  }
 ],
 "metadata": {
  "language_info": {
   "name": "python"
  }
 },
 "nbformat": 4,
 "nbformat_minor": 2
}
