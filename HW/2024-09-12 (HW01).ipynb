{
 "cells": [
  {
   "cell_type": "markdown",
   "metadata": {},
   "source": [
    "**Pre-Lecture**"
   ]
  },
  {
   "cell_type": "code",
   "execution_count": 2,
   "metadata": {},
   "outputs": [
    {
     "data": {
      "text/plain": [
       "row_n           0\n",
       "id              1\n",
       "name            0\n",
       "gender          0\n",
       "species         0\n",
       "birthday        0\n",
       "personality     0\n",
       "song           11\n",
       "phrase          0\n",
       "full_id         0\n",
       "url             0\n",
       "dtype: int64"
      ]
     },
     "execution_count": 2,
     "metadata": {},
     "output_type": "execute_result"
    }
   ],
   "source": [
    "import pandas as pd\n",
    "url = \"https://raw.githubusercontent.com/rfordatascience/tidytuesday/master/data/2020/2020-05-05/villagers.csv\"\n",
    "df = pd.read_csv(url)\n",
    "df.isna().sum()"
   ]
  },
  {
   "cell_type": "code",
   "execution_count": 3,
   "metadata": {},
   "outputs": [
    {
     "name": "stdout",
     "output_type": "stream",
     "text": [
      "Rows: 391, Columns: 11\n"
     ]
    }
   ],
   "source": [
    "import pandas as pd\n",
    "\n",
    "url = \"https://raw.githubusercontent.com/rfordatascience/tidytuesday/master/data/2020/2020-05-05/villagers.csv\"\n",
    "villagers_df = pd.read_csv(url)\n",
    "\n",
    "# Get the number of rows and columns\n",
    "rows, columns = villagers_df.shape\n",
    "print(f\"Rows: {rows}, Columns: {columns}\")\n"
   ]
  },
  {
   "cell_type": "markdown",
   "metadata": {},
   "source": [
    "2) \n",
    "Rows: 391, Columns: 11\n",
    "\n",
    "Variables - Characteristics that are being measured\n",
    "\n",
    "Observations - Individual datapoints measuring selected variables"
   ]
  },
  {
   "cell_type": "code",
   "execution_count": 4,
   "metadata": {},
   "outputs": [
    {
     "name": "stdout",
     "output_type": "stream",
     "text": [
      "Dataset Info:\n",
      "<class 'pandas.core.frame.DataFrame'>\n",
      "RangeIndex: 391 entries, 0 to 390\n",
      "Data columns (total 11 columns):\n",
      " #   Column       Non-Null Count  Dtype \n",
      "---  ------       --------------  ----- \n",
      " 0   row_n        391 non-null    int64 \n",
      " 1   id           390 non-null    object\n",
      " 2   name         391 non-null    object\n",
      " 3   gender       391 non-null    object\n",
      " 4   species      391 non-null    object\n",
      " 5   birthday     391 non-null    object\n",
      " 6   personality  391 non-null    object\n",
      " 7   song         380 non-null    object\n",
      " 8   phrase       391 non-null    object\n",
      " 9   full_id      391 non-null    object\n",
      " 10  url          391 non-null    object\n",
      "dtypes: int64(1), object(10)\n",
      "memory usage: 33.7+ KB\n",
      "\n",
      "Summary Statistics for Numerical Columns:\n",
      "            row_n\n",
      "count  391.000000\n",
      "mean   239.902813\n",
      "std    140.702672\n",
      "min      2.000000\n",
      "25%    117.500000\n",
      "50%    240.000000\n",
      "75%    363.500000\n",
      "max    483.000000\n",
      "\n",
      "Summary Statistics for Categorical Columns:\n",
      "            id    name gender species birthday personality          song  \\\n",
      "count      390     391    391     391      391         391           380   \n",
      "unique     390     391      2      35      361           8            92   \n",
      "top     zucker  Zucker   male     cat     6-30        lazy  K.K. Country   \n",
      "freq         1       1    204      23        2          60            10   \n",
      "\n",
      "        phrase          full_id  \\\n",
      "count      391              391   \n",
      "unique     388              391   \n",
      "top     quacko  villager-zucker   \n",
      "freq         2                1   \n",
      "\n",
      "                                                      url  \n",
      "count                                                 391  \n",
      "unique                                                391  \n",
      "top     https://villagerdb.com/images/villagers/thumb/...  \n",
      "freq                                                    1  \n",
      "\n",
      "First 5 Rows of the Dataset:\n",
      "   row_n       id     name  gender    species birthday personality  \\\n",
      "0      2  admiral  Admiral    male       bird     1-27      cranky   \n",
      "1      3  agent-s  Agent S  female   squirrel      7-2       peppy   \n",
      "2      4    agnes    Agnes  female        pig     4-21        uchi   \n",
      "3      6       al       Al    male    gorilla    10-18        lazy   \n",
      "4      7  alfonso  Alfonso    male  alligator      6-9        lazy   \n",
      "\n",
      "          song    phrase           full_id  \\\n",
      "0   Steep Hill   aye aye  villager-admiral   \n",
      "1      DJ K.K.  sidekick  villager-agent-s   \n",
      "2   K.K. House   snuffle    villager-agnes   \n",
      "3   Steep Hill   Ayyeeee       villager-al   \n",
      "4  Forest Life  it'sa me  villager-alfonso   \n",
      "\n",
      "                                                 url  \n",
      "0  https://villagerdb.com/images/villagers/thumb/...  \n",
      "1  https://villagerdb.com/images/villagers/thumb/...  \n",
      "2  https://villagerdb.com/images/villagers/thumb/...  \n",
      "3  https://villagerdb.com/images/villagers/thumb/...  \n",
      "4  https://villagerdb.com/images/villagers/thumb/...  \n"
     ]
    }
   ],
   "source": [
    "import pandas as pd\n",
    "\n",
    "# Load the dataset\n",
    "url = \"https://raw.githubusercontent.com/rfordatascience/tidytuesday/master/data/2020/2020-05-05/villagers.csv\"\n",
    "villagers_df = pd.read_csv(url)\n",
    "\n",
    "# Get basic information about the dataset (e.g., column names, data types, non-null values)\n",
    "print(\"Dataset Info:\")\n",
    "villagers_df.info()\n",
    "\n",
    "# Get summary statistics for numerical columns (e.g., mean, std, min, max)\n",
    "print(\"\\nSummary Statistics for Numerical Columns:\")\n",
    "print(villagers_df.describe())\n",
    "\n",
    "# Get a summary of all columns, including categorical ones\n",
    "print(\"\\nSummary Statistics for Categorical Columns:\")\n",
    "print(villagers_df.describe(include=['object']))\n",
    "\n",
    "# You can also view the first few rows to get a sense of the dataset structure\n",
    "print(\"\\nFirst 5 Rows of the Dataset:\")\n",
    "print(villagers_df.head())\n"
   ]
  },
  {
   "cell_type": "markdown",
   "metadata": {},
   "source": [
    "5) \n",
    "An attribute, like df.shape is a characteristic or property of an object in python. When it is accessed, it does not affect the object.\n",
    "\n",
    "A method, like df.describe(), is a function that can be performed on an object. They might take arguments, and after being called, it changes the object to which it corresponds."
   ]
  },
  {
   "cell_type": "markdown",
   "metadata": {},
   "source": [
    "**Post-Lecture**"
   ]
  },
  {
   "cell_type": "markdown",
   "metadata": {},
   "source": [
    "6) \n",
    "From ChatGPT:\n",
    "\n",
    "Summary:\n",
    "count: Number of non-null entries.\n",
    "mean: Average value.\n",
    "std: Standard deviation (spread of data).\n",
    "min: Smallest value.\n",
    "25%: Value at the 25th percentile (first quartile).\n",
    "50%: Median (middle value).\n",
    "75%: Value at the 75th percentile (third quartile).\n",
    "max: Largest value.\n"
   ]
  },
  {
   "cell_type": "markdown",
   "metadata": {},
   "source": [
    "7) \n",
    "    1) df.dropna() \n",
    "    Dropping a column temporarily disables it so that the dataframe can be interpreted with the column excluded. \n",
    "    This may be preferential when you want to analyze the dataframe once with this column excluded, but not delete it permanentely.\n",
    "\n",
    "    2) del df['col']\n",
    "    Deleting a column removes it permanentely from the data set. You may want to do this if a column is missing too many values or is otherwise not useful.\n",
    "    3) I haven't confirmed this, but I imagine it's because deleting a column may affect the indeces of the other columns in the dataframe."
   ]
  },
  {
   "cell_type": "markdown",
   "metadata": {},
   "source": [
    "8) \n",
    "    3) \n",
    "    I haven't encountered any errors produced by ChatGPT. Looking up information on google the top results tend to also be highly accurate. I believe both are very reliable but due to the nature of chatbots I believe ChatGPT is more likely to be able to automatically spot mistakes that I've made myself, so the end result may be better and you may arrive to successful and functional code faster than if you rely solely on google."
   ]
  },
  {
   "cell_type": "markdown",
   "metadata": {},
   "source": [
    "**ChatGPT Summary**\n",
    "\n",
    "We've discussed various topics related to handling data in pandas, including:\n",
    "\n",
    "Difference between attributes and methods: Attributes like df.shape provide information without performing calculations, while methods like df.describe() execute operations on the data.\n",
    "\n",
    "Summary statistics in df.describe(): Key statistics include count, mean, std, min, 25%, 50% (median), 75%, and max, each providing insights into the dataset's distribution.\n",
    "\n",
    "Handling missing data:\n",
    "\n",
    "df.dropna(): Removes rows or columns with missing values, either temporarily or permanently.\n",
    "del df['col']: Permanently deletes a column, typically used when it's mostly missing or irrelevant.\n",
    "Difference between dropping and permanently deleting a column: Dropping (df.drop()) can either temporarily or permanently remove a column (depending on the inplace parameter), while del df['col'] always permanently deletes the column.\n",
    "\n",
    " "
   ]
  }
 ],
 "metadata": {
  "kernelspec": {
   "display_name": "Python 3",
   "language": "python",
   "name": "python3"
  },
  "language_info": {
   "codemirror_mode": {
    "name": "ipython",
    "version": 3
   },
   "file_extension": ".py",
   "mimetype": "text/x-python",
   "name": "python",
   "nbconvert_exporter": "python",
   "pygments_lexer": "ipython3",
   "version": "3.12.4"
  }
 },
 "nbformat": 4,
 "nbformat_minor": 2
}
