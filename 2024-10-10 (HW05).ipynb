{
 "cells": [
  {
   "cell_type": "markdown",
   "metadata": {},
   "source": [
    "1) xi's are the actual recorded values, the data points that we have to work with. These data points usually make up a sample of a larger population, and our goal is to use them to get an idea of what the parameters of the whole population are like.\n",
    "\n",
    "x̄ is the sample mean. It is the average value that we calculated in our sample.\n",
    "\n",
    "μ is the actual population mean. We usually don't know this value, because we rarely work with data from the entire population. Our goal is to get an estimate of this value \n",
    "\n",
    "μ₀ is the hypothesized population mean. It is a value that we're proposing as a guess for the population mean, that we are going to test against with the data that we do have, to see if it's a reasonable guess.\n",
    "\n",
    "The sentence *\"It is important to note that outcomes of tests refer to the population parameter, rather than the sample statistic! As such, the result that we get is for the population\"* means that when deciding which whether the test we have conducted supports the null hypothesis, we have to work with the population parameter, like μ₀ rather than x̄."
   ]
  },
  {
   "cell_type": "markdown",
   "metadata": {},
   "source": [
    "4) If a P-value is small, that suggests that in a word where the null hypothesis is true, it's very unlikely that the the data we observed match the population of this hypothetical world. We know the data we observed to be true, so it's likely that our hypothesis is wrong."
   ]
  },
  {
   "cell_type": "markdown",
   "metadata": {},
   "source": [
    "5)  0.0012"
   ]
  },
  {
   "cell_type": "markdown",
   "metadata": {},
   "source": [
    "8) \n",
    "\n",
    "**Population:** STA130 students \n",
    "**Sample:** 80 random STA130 students \n",
    "\n",
    "**Parameter:** The probability of correctly guessing how the tea was poured \n",
    "    **Observed test statistic:** The number of correct guesses (49/80). We're going to use this to calculate that the probability of each guess was 50%.\n",
    "\n",
    "**Null hypothesis formal:** H0: p = 0.5 *(The probability of guessing how the tea was poured is 50%)*\n",
    "\n",
    "Null-hypothesis informal: People can't tell the difference between tea poured after milk and before milk, and each guess comes down to a 50-50 chance.\n",
    "\n",
    "**Alternative hypothesis formal:** H1: p > 0.5 *(The probability of guessing how the tea was poured is higher than 50%)*\n",
    "\n",
    "Alternative hypothesis informal: Some people may be able to tell the difference between tea poured after milk and before milk.\n",
    "\n",
    "**Calculations:**\n",
    "We know that the number of correct guesses was 49/80, which is 61.25%. We need to determine the likelihood with which we could have gotten this number of correct guesses, if the probability of each guess was 50%.\n",
    "\n",
    "We're going to set the significance level at 0.05, as is convention. If the P value is \n",
    "\n",
    "Next, we'll calculate the standard error:"
   ]
  },
  {
   "cell_type": "code",
   "execution_count": 1,
   "metadata": {},
   "outputs": [
    {
     "data": {
      "text/plain": [
       "0.05590169943749474"
      ]
     },
     "execution_count": 1,
     "metadata": {},
     "output_type": "execute_result"
    }
   ],
   "source": [
    "P0 = 0.5\n",
    "N = 80\n",
    "SE = ((P0*(1-P0))/N)**0.5\n",
    "SE"
   ]
  },
  {
   "cell_type": "markdown",
   "metadata": {},
   "source": [
    "Next, we want to see where the test statistic lies from the hypothesized mean (0.5), in terms of the standard error. This gives us the Z-Value"
   ]
  },
  {
   "cell_type": "code",
   "execution_count": 4,
   "metadata": {},
   "outputs": [
    {
     "data": {
      "text/plain": [
       "2.0124611797498115"
      ]
     },
     "execution_count": 4,
     "metadata": {},
     "output_type": "execute_result"
    }
   ],
   "source": [
    "P_SAMPLE = (49/80)\n",
    "Z = (P_SAMPLE - P0)/SE\n",
    "Z"
   ]
  },
  {
   "cell_type": "markdown",
   "metadata": {},
   "source": [
    "As we can see, the test statistic is ~2.012 standard errors away from the hypothesized mean. We can then use this Z-Value to calculate the one-tailed p-value."
   ]
  },
  {
   "cell_type": "code",
   "execution_count": 6,
   "metadata": {},
   "outputs": [
    {
     "data": {
      "text/plain": [
       "np.float64(0.02208567245422125)"
      ]
     },
     "execution_count": 6,
     "metadata": {},
     "output_type": "execute_result"
    }
   ],
   "source": [
    "from scipy.stats import norm\n",
    "\n",
    "p_value = norm.sf(Z)\n",
    "p_value"
   ]
  },
  {
   "cell_type": "markdown",
   "metadata": {},
   "source": [
    "0.02209 < 0.05. We must reject the null hypothesis. The data suggests that it is exceedingly likely that students of STA130 have an over 50% chance at correctly guessing how the tea was poured."
   ]
  },
  {
   "cell_type": "markdown",
   "metadata": {},
   "source": [
    "**ChatGPT Summary and link**\n",
    "\n",
    "*\"You received guidance on your STA130 homework, covering key statistical concepts like hypothesis testing, p-values, and the differences between one-tailed and two-tailed tests. We discussed how to formulate null and alternative hypotheses, interpret p-values, and understand their limitations in proving hypotheses. For Fisher's Tea Experiment, I helped outline how to describe the population and sample, set up formal hypotheses, perform a one-sample z-test, and use Python to calculate one-tailed p-values. Additionally, I provided tips on structuring your report clearly and accurately.\"*\n",
    "\n",
    "https://chatgpt.com/share/670d6eeb-a7c8-8004-9877-62e1ee981f0d\n"
   ]
  }
 ],
 "metadata": {
  "kernelspec": {
   "display_name": "Python 3",
   "language": "python",
   "name": "python3"
  },
  "language_info": {
   "codemirror_mode": {
    "name": "ipython",
    "version": 3
   },
   "file_extension": ".py",
   "mimetype": "text/x-python",
   "name": "python",
   "nbconvert_exporter": "python",
   "pygments_lexer": "ipython3",
   "version": "3.12.4"
  }
 },
 "nbformat": 4,
 "nbformat_minor": 2
}
