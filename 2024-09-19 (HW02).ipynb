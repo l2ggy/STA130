{
 "cells": [
  {
   "cell_type": "markdown",
   "metadata": {},
   "source": [
    "**Pre-lecture**"
   ]
  },
  {
   "cell_type": "markdown",
   "metadata": {},
   "source": [
    "1) \n",
    "ChatGPT was able to explain the program and optimize the for loop, providing the following code, which executed successfully. \n",
    "\n",
    "2) \n",
    "The main advantage of this code over the original code is the fact that it took out unnecessary manipulations to the lists inside the for loop. This makes the loop clearer and more concise"
   ]
  },
  {
   "cell_type": "code",
   "execution_count": 1,
   "metadata": {},
   "outputs": [
    {
     "data": {
      "text/plain": [
       "0.66704"
      ]
     },
     "execution_count": 1,
     "metadata": {},
     "output_type": "execute_result"
    }
   ],
   "source": [
    "import numpy as np\n",
    "\n",
    "all_door_options = [1, 2, 3]  # list of doors\n",
    "my_initial_choice = 1  # always start by choosing door 1\n",
    "i_won = 0  # counter for number of wins\n",
    "reps = 100000  # number of iterations\n",
    "\n",
    "for i in range(reps):\n",
    "    # Randomly choose the winning door\n",
    "    secret_winning_door = np.random.choice(all_door_options)\n",
    "    \n",
    "    # Host reveals a goat door (a door that isn't the winning one and isn't your initial choice)\n",
    "    goat_door_reveal = np.random.choice([door for door in all_door_options if door != secret_winning_door and door != my_initial_choice])\n",
    "\n",
    "    # The contestant always switches to the remaining door\n",
    "    switched_choice = next(door for door in all_door_options if door != my_initial_choice and door != goat_door_reveal)\n",
    "    \n",
    "    # Check if the switched choice is the winning door\n",
    "    if switched_choice == secret_winning_door:\n",
    "        i_won += 1\n",
    "\n",
    "# Output the proportion of wins when switching\n",
    "i_won / reps\n"
   ]
  },
  {
   "cell_type": "markdown",
   "metadata": {},
   "source": [
    "**Post-Lecture**"
   ]
  },
  {
   "cell_type": "markdown",
   "metadata": {},
   "source": [
    "5) \n",
    "Upon being shown the extension code, by chatgpt understood the purpose of the code perfectly. These are some excerpts from its answers:\n",
    "\n",
    "*\"The extension code you provided enhances the original Markov chain model by considering word pairs (bigrams) instead of single words when predicting the next word.\"*\n",
    "\n",
    "*\"This code extends the Markovian chatbot by incorporating character-specific modeling. It builds separate second-order Markov chain models for each character in the dataset, allowing the chatbot to generate text that mimics the speech patterns of individual characters.\"*\n",
    "\n",
    "6) \n",
    "I mostly understood the code already, prior to asking chatgpt to explain it; however, I did find its explanations to be very clear and accurate, although somewhat inconcise. \n",
    "\n",
    "Having worked with chatgpt previously, my biggest concern was trying to solve situations where the chatbot is giving wrong information or making a mistake, as it's very difficult to make it correct itself. It seems incapable of really understanding what it is that it is doing wrong; however, I've found the latest chatgpt models to make very few mistakes, and as such have had no experience in trying to troubleshoot its responses.\n",
    "\n",
    "I think now more than ever chatbots are extremely helpful in writing and trying to understand code.\n",
    "\n",
    "7) \n",
    "Since I've started the course and used ChatGPT more to deepen my understanding of technical concepts such as markov chains today, I've been impressed with its ability to explain code in detail and write code that is functioning and efficient.\n",
    "\n",
    "I intend to continue using chatbots to help myself learn about programming, statistics, and data science both when they are and aren't part of the suggested curriculum.\n",
    "\n",
    "9) \n",
    "No, but if I need to look at the course wiki-textbook, I intend to make use of a chatbot to summarize and guide me to the sections that may be important to me.\n"
   ]
  },
  {
   "cell_type": "markdown",
   "metadata": {},
   "source": [
    "ChatGPT Summary:\n",
    "\n",
    "\"STA130 Homework:\n",
    "\n",
    "You mentioned that this chat is part of your STA130 homework due on September 19th.\n",
    "Monty Hall Problem Code Explanation:\n",
    "\n",
    "You asked me to explain how a Python code simulating the Monty Hall problem works.\n",
    "I provided a detailed breakdown of the code, explaining each step and how it models the strategy of always switching doors to maximize winning probability.\n",
    "Code Optimization:\n",
    "\n",
    "You inquired if the for-loop section of the Monty Hall code could be made more efficient and clearer, requesting an updated version.\n",
    "I provided an optimized code with explanations on the improvements made for efficiency and readability.\n",
    "Markovian Chatbot Code Explanation:\n",
    "\n",
    "You mentioned having code that creates a \"Markovian Chatbot\" and asked for an explanation.\n",
    "I explained how the code builds a first-order Markov chain by tracking word frequencies and their transitions to model text generation.\n",
    "First Extension of the Markovian Chatbot:\n",
    "\n",
    "You shared an extension of the chatbot code and asked what it's supposed to do.\n",
    "I explained that the extension enhances the model to a second-order Markov chain by using word pairs (bigrams) to predict the next word, capturing more context for more coherent text generation.\n",
    "Second Extension Incorporating Character Modeling:\n",
    "\n",
    "You provided another code extension and asked for its purpose.\n",
    "I detailed how this code adds character-specific modeling, creating separate bigram models for each character to generate text that mimics individual speaking styles.\n",
    "Discussion on Essential Skills in Data Science:\n",
    "\n",
    "You wanted to discuss the relevance of learning and adaptability, communication, coding, and statistics and data analysis as essential skills in the modern world, particularly in the data science industry.\n",
    "I provided an in-depth discussion on how these skills are vital for career opportunities, their impact on professional success, and their specific relevance to data science roles.\n",
    "Possibility of Being a Statistician or Data Scientist Without Coding:\n",
    "\n",
    "You asked if one could be a statistician or data scientist without coding or doing data analysis.\n",
    "I explained that while some roles may involve less hands-on coding or analysis, proficiency in these areas is generally essential for most positions in these fields.\n",
    "Request for a Concise Summary:\n",
    "\n",
    "Finally, you asked for a concise summary of our entire conversation, which I have provided here.\n",
    "\"\n",
    "\n",
    "https://chatgpt.com/share/66ecce5e-9598-8004-9314-cbea4dffb00e"
   ]
  }
 ],
 "metadata": {
  "kernelspec": {
   "display_name": "Python 3",
   "language": "python",
   "name": "python3"
  },
  "language_info": {
   "codemirror_mode": {
    "name": "ipython",
    "version": 3
   },
   "file_extension": ".py",
   "mimetype": "text/x-python",
   "name": "python",
   "nbconvert_exporter": "python",
   "pygments_lexer": "ipython3",
   "version": "3.12.4"
  }
 },
 "nbformat": 4,
 "nbformat_minor": 2
}
