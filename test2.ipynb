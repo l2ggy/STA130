{
 "cells": [
  {
   "cell_type": "markdown",
   "metadata": {},
   "source": [
    "test test test"
   ]
  }
 ],
 "metadata": {
  "language_info": {
   "name": "python"
  }
 },
 "nbformat": 4,
 "nbformat_minor": 2
}
